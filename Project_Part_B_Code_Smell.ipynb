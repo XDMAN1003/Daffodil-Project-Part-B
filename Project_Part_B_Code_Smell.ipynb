{
  "nbformat": 4,
  "nbformat_minor": 0,
  "metadata": {
    "colab": {
      "name": "Project Part B: Code Smell",
      "provenance": [],
      "collapsed_sections": [],
      "authorship_tag": "ABX9TyNEnj0Zeo+V2VAx2FmWxbSB",
      "include_colab_link": true
    },
    "kernelspec": {
      "name": "python3",
      "display_name": "Python 3"
    },
    "language_info": {
      "name": "python"
    }
  },
  "cells": [
    {
      "cell_type": "markdown",
      "metadata": {
        "id": "view-in-github",
        "colab_type": "text"
      },
      "source": [
        "<a href=\"https://colab.research.google.com/github/XDMAN1003/Daffodil-Project-Part-B/blob/main/Project_Part_B_Code_Smell.ipynb\" target=\"_parent\"><img src=\"https://colab.research.google.com/assets/colab-badge.svg\" alt=\"Open In Colab\"/></a>"
      ]
    },
    {
      "cell_type": "code",
      "execution_count": 10,
      "metadata": {
        "colab": {
          "base_uri": "https://localhost:8080/"
        },
        "id": "nD10qoz3rZTP",
        "outputId": "e5806a68-5078-49bb-a2b0-ee94b4bf5e15"
      },
      "outputs": [
        {
          "output_type": "stream",
          "name": "stdout",
          "text": [
            "Rectangle 1's Details: \n",
            "Rectangle 1's Length\t: 10 cm\n",
            "Rectangle 1's Width\t: 20 cm\n",
            "Rectangle 1's Height\t: 30 cm\n",
            "Rectangle 1's Area\t: 200 cm^2\n",
            "Rectangle 1's Volume\t: 6000 cm^3\n",
            "Computational Time \t: 5.165577 ms\n"
          ]
        }
      ],
      "source": [
        "import time\n",
        "# Code Smell: Data Class\n",
        "class Rectangle:\n",
        "  def __init__(self, length, width, height):\n",
        "    self.length = length\n",
        "    self.width = width\n",
        "    self.height = height\n",
        "\n",
        "class Shape:\n",
        "  def __init__(self,shape):\n",
        "    self.shape = shape\n",
        "\n",
        "  def getArea(self,length,width):\n",
        "    return length * width\n",
        "\n",
        "  def getVolume(self,length,width,height):\n",
        "    return length * width * height\n",
        "\n",
        "start = time.time()\n",
        "rect1 = Rectangle(10,20,30)\n",
        "print(\"Rectangle 1's Details: \")\n",
        "print(\"Rectangle 1's Length\\t: %d cm\" %(rect1.length))\n",
        "print(\"Rectangle 1's Width\\t: %d cm\" %(rect1.width))\n",
        "print(\"Rectangle 1's Height\\t: %d cm\" %(rect1.height))\n",
        "\n",
        "shape = Shape(rect1)\n",
        "print(\"Rectangle 1's Area\\t: %d cm^2\" %(shape.getArea(rect1.length, rect1.width)))\n",
        "print(\"Rectangle 1's Volume\\t: %d cm^3\" %(shape.getVolume(rect1.length, rect1.width,rect1.height)))\n",
        "end = time.time()\n",
        "print(\"Computational Time \\t: %f ms\" %((end - start)*1000))"
      ]
    },
    {
      "cell_type": "code",
      "source": [
        "# Refactor the Code for the Code Smell: Data Clamp\n",
        "class Rectangle:\n",
        "  def __init__(self, length, width, height):\n",
        "    self.length = length\n",
        "    self.width = width\n",
        "    self.height = height\n",
        "\n",
        "class Shape:\n",
        "  def __init__(self,shape):\n",
        "    self.shape = shape\n",
        "\n",
        "  def getArea(self):\n",
        "    return self.shape.length * self.shape.width\n",
        "\n",
        "  def getVolume(self):\n",
        "    return self.shape.length * self.shape.width * self.shape.height\n",
        "\n",
        "start = time.time()\n",
        "rect1 = Rectangle(10,20,30)\n",
        "print(\"Rectangle 1's Details: \")\n",
        "print(\"Rectangle 1's Length\\t: %d cm\" %(rect1.length))\n",
        "print(\"Rectangle 1's Width\\t: %d cm\" %(rect1.width))\n",
        "print(\"Rectangle 1's Height\\t: %d cm\" %(rect1.height))\n",
        "\n",
        "shape = Shape(rect1)\n",
        "print(\"Rectangle 1's Area\\t: %d cm^2\" %(shape.getArea()))\n",
        "print(\"Rectangle 1's Volume\\t: %d cm^3\" %(shape.getVolume()))\n",
        "\n",
        "end = time.time()\n",
        "print(\"Computational Time \\t: %f ms\" %((end - start)*1000))"
      ],
      "metadata": {
        "colab": {
          "base_uri": "https://localhost:8080/"
        },
        "id": "2ylA4eHzAEve",
        "outputId": "8af64c46-0a8d-4ed0-81e5-1bf051cdc297"
      },
      "execution_count": 11,
      "outputs": [
        {
          "output_type": "stream",
          "name": "stdout",
          "text": [
            "Rectangle 1's Details: \n",
            "Rectangle 1's Length\t: 10 cm\n",
            "Rectangle 1's Width\t: 20 cm\n",
            "Rectangle 1's Height\t: 30 cm\n",
            "Rectangle 1's Area\t: 200 cm^2\n",
            "Rectangle 1's Volume\t: 6000 cm^3\n",
            "Computational Time \t: 3.074884 ms\n"
          ]
        }
      ]
    },
    {
      "cell_type": "code",
      "source": [
        "# Refactor the Code for the Code Smell: Feature Envy\n",
        "class Rectangle:\n",
        "  def __init__(self, length, width, height):\n",
        "    self.length = length\n",
        "    self.width = width\n",
        "    self.height = height\n",
        "\n",
        "  def getArea(self):\n",
        "    return self.length * self.width\n",
        "\n",
        "  def getVolume(self):\n",
        "    return self.length * self.width * self.height\n",
        "\n",
        "\n",
        "class Shape:\n",
        "  def __init__(self,shape):\n",
        "    self.shape = shape\n",
        "\n",
        "  def getArea(self):\n",
        "    return self.shape.getArea()\n",
        "\n",
        "  def getVolume(self):\n",
        "    return self.shape.getVolume()\n",
        "\n",
        "\n",
        "start = time.time()\n",
        "rect1 = Rectangle(10,20,30)\n",
        "print(\"Rectangle 1's Details: \")\n",
        "print(\"Rectangle 1's Length\\t: %d cm\" %(rect1.length))\n",
        "print(\"Rectangle 1's Width\\t: %d cm\" %(rect1.width))\n",
        "print(\"Rectangle 1's Height\\t: %d cm\" %(rect1.height))\n",
        "\n",
        "shape = Shape(rect1)\n",
        "print(\"Rectangle 1's Area\\t: %d cm^2\" %(shape.getArea()))\n",
        "print(\"Rectangle 1's Volume\\t: %d cm^3\" %(shape.getVolume()))\n",
        "\n",
        "end = time.time()\n",
        "print(\"Computational Time \\t: %f ms\" %((end - start)*1000))"
      ],
      "metadata": {
        "colab": {
          "base_uri": "https://localhost:8080/"
        },
        "id": "zTf1dWedDKI7",
        "outputId": "122f1121-4562-48dd-e860-fcc39d52a4fe"
      },
      "execution_count": 12,
      "outputs": [
        {
          "output_type": "stream",
          "name": "stdout",
          "text": [
            "Rectangle 1's Details: \n",
            "Rectangle 1's Length\t: 10 cm\n",
            "Rectangle 1's Width\t: 20 cm\n",
            "Rectangle 1's Height\t: 30 cm\n",
            "Rectangle 1's Area\t: 200 cm^2\n",
            "Rectangle 1's Volume\t: 6000 cm^3\n",
            "Computational Time \t: 3.069401 ms\n"
          ]
        }
      ]
    },
    {
      "cell_type": "code",
      "source": [
        "# Refactor the Code for the Code Smell: Inappropriate Intimacy\n",
        "class Rectangle:\n",
        "  def __init__(self, length, width, height):\n",
        "    self.length = length\n",
        "    self.width = width\n",
        "    self.height = height\n",
        "\n",
        "  def getArea(self):\n",
        "    return self.length * self.width\n",
        "\n",
        "  def getVolume(self):\n",
        "    return self.length * self.width * self.height\n",
        "\n",
        "start = time.time()\n",
        "rect1 = Rectangle(10,20,30)\n",
        "print(\"Rectangle 1's Details: \")\n",
        "print(\"Rectangle 1's Length\\t: %d cm\" %(rect1.length))\n",
        "print(\"Rectangle 1's Width\\t: %d cm\" %(rect1.width))\n",
        "print(\"Rectangle 1's Height\\t: %d cm\" %(rect1.height))\n",
        "\n",
        "shape = Shape(rect1)\n",
        "print(\"Rectangle 1's Area\\t: %d cm^2\" %(rect1.getArea()))\n",
        "print(\"Rectangle 1's Volume\\t: %d cm^3\" %(rect1.getVolume()))\n",
        "\n",
        "end = time.time()\n",
        "print(\"Computational Time \\t: %f ms\" %((end - start)*1000))"
      ],
      "metadata": {
        "colab": {
          "base_uri": "https://localhost:8080/"
        },
        "id": "VyPsmRNdEjNa",
        "outputId": "18920e6e-bcb5-4fce-a4a3-9595b4fa71d3"
      },
      "execution_count": 13,
      "outputs": [
        {
          "output_type": "stream",
          "name": "stdout",
          "text": [
            "Rectangle 1's Details: \n",
            "Rectangle 1's Length\t: 10 cm\n",
            "Rectangle 1's Width\t: 20 cm\n",
            "Rectangle 1's Height\t: 30 cm\n",
            "Rectangle 1's Area\t: 200 cm^2\n",
            "Rectangle 1's Volume\t: 6000 cm^3\n",
            "Computational Time \t: 4.965067 ms\n"
          ]
        }
      ]
    }
  ]
}